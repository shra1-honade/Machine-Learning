{
 "cells": [
  {
   "cell_type": "markdown",
   "metadata": {
    "application/vnd.databricks.v1+cell": {
     "cellMetadata": {
      "byteLimit": 2048000,
      "rowLimit": 10000
     },
     "inputWidgets": {},
     "nuid": "a6c60c30-0e84-474f-a5ed-548a566e1899",
     "showTitle": false,
     "title": ""
    }
   },
   "source": [
    "\n",
    "### The Notebook Contains:\n",
    "* EDA\n",
    "  * Contains the bar graph to analyze the flight cancellation for different airlines. \n",
    "  * Contains the bar graph to analyze the flight cancellation in different months. \n",
    "\n",
    "* Machine Learning\n",
    "  * Using Logistic regression, Random forest classifier and GBT classifier for prediction of flight cancellation.\n",
    "\n",
    "### Objective\n",
    "* To develop machine learning models that classify flights outcome (cancelled or not cancelled) with selected attributes.\n",
    "* To evaluate performance of different machine learning models.\n",
    "\n",
    "### Approach\n",
    "* Used <em><strong>Logistic Regression</strong></em>, <em><strong>Random Forest Classifier</em></strong> and <em><strong>GBT Classifier</em></strong> for prediction and compared  \n",
    "  these models to find the Best \n",
    "  Model.\n",
    "\n",
    "### Dataset\n",
    "* The Datasource is from Kaggle , can be found [here.](\"https://nam12.safelinks.protection.outlook.com/?url=https%3A%2F%2Fwww.kaggle.com%2Fdatasets%2Fyuanyuwendymu%2Fairline-delay-and-cancellation-data-2009-2018%2Fdata&data=05%7C01%7Cdghate1%40student.gsu.edu%7Cd6e6b5058c0a4fe4865a08dbd9760ff0%7C704d822c358a47849a1649e20b75f941%7C0%7C0%7C638342873335688264%7CUnknown%7CTWFpbGZsb3d8eyJWIjoiMC4wLjAwMDAiLCJQIjoiV2luMzIiLCJBTiI6Ik1haWwiLCJXVCI6Mn0%3D%7C3000%7C%7C%7C&sdata=Gz%2FsLKnCm9zZ6bIalK%2BoDJojg5ENjCuR3%2FWJeFYgd9M%3D&reserved=0\")\n",
    "\n"
   ]
  },
  {
   "cell_type": "markdown",
   "metadata": {
    "application/vnd.databricks.v1+cell": {
     "cellMetadata": {
      "byteLimit": 2048000,
      "rowLimit": 10000
     },
     "inputWidgets": {},
     "nuid": "8eb23fb1-3b1f-4aef-b9d7-30eda94a9140",
     "showTitle": false,
     "title": ""
    }
   },
   "source": [
    "### Import packages "
   ]
  },
  {
   "cell_type": "code",
   "execution_count": 0,
   "metadata": {
    "application/vnd.databricks.v1+cell": {
     "cellMetadata": {
      "byteLimit": 2048000,
      "rowLimit": 10000
     },
     "inputWidgets": {},
     "nuid": "8917b7a4-b03d-4420-a6bf-74dc491f930d",
     "showTitle": false,
     "title": ""
    }
   },
   "outputs": [
    {
     "output_type": "display_data",
     "data": {
      "application/vnd.databricks.v1+bamboolib_hint": "{\"pd.DataFrames\": [], \"version\": \"0.0.1\"}",
      "text/plain": []
     },
     "metadata": {},
     "output_type": "display_data"
    }
   ],
   "source": [
    "from pyspark import SparkContext, SparkConf\n",
    "from pyspark.sql import SparkSession\n",
    "\n",
    "import pyspark.sql.functions as F\n",
    "import pyspark.sql.types as T \n",
    "from pyspark.ml.feature import OneHotEncoder, StringIndexer, VectorAssembler\n",
    "from pyspark.ml import Pipeline\n",
    "from pyspark.ml.classification import LogisticRegression, DecisionTreeClassifier, RandomForestClassifier, GBTClassifier\n",
    "from pyspark.ml.evaluation import BinaryClassificationEvaluator, MulticlassClassificationEvaluator\n",
    "import matplotlib.pyplot as plt\n",
    "import pandas as pd\n",
    "\n",
    "import warnings\n",
    "warnings.filterwarnings('ignore')"
   ]
  },
  {
   "cell_type": "markdown",
   "metadata": {
    "application/vnd.databricks.v1+cell": {
     "cellMetadata": {
      "byteLimit": 2048000,
      "rowLimit": 10000
     },
     "inputWidgets": {},
     "nuid": "043f016f-a7b3-4a6e-b26b-1b7a35066418",
     "showTitle": false,
     "title": ""
    }
   },
   "source": [
    "### Download Airline Data "
   ]
  },
  {
   "cell_type": "code",
   "execution_count": 0,
   "metadata": {
    "application/vnd.databricks.v1+cell": {
     "cellMetadata": {
      "byteLimit": 2048000,
      "rowLimit": 10000
     },
     "inputWidgets": {},
     "nuid": "941f44e6-acf8-46fc-90bf-26e31b913e10",
     "showTitle": false,
     "title": ""
    }
   },
   "outputs": [
    {
     "output_type": "stream",
     "name": "stdout",
     "output_type": "stream",
     "text": [
      "--2023-12-10 04:05:00--  https://downloable.s3.amazonaws.com/2017.csv\r\nResolving downloable.s3.amazonaws.com (downloable.s3.amazonaws.com)... 3.5.28.46, 3.5.28.235, 3.5.29.148, ...\r\nConnecting to downloable.s3.amazonaws.com (downloable.s3.amazonaws.com)|3.5.28.46|:443... connected.\r\nHTTP request sent, awaiting response... 200 OK\r\nLength: 702257855 (670M) [text/csv]\r\nSaving to: ‘2017.csv’\r\n\r\n\r2017.csv              0%[                    ]       0  --.-KB/s               \r2017.csv              0%[                    ] 147.51K   590KB/s               \r2017.csv              0%[                    ]   1.15M  2.28MB/s               \r2017.csv              0%[                    ]   5.96M  7.93MB/s               \r2017.csv              1%[                    ]  11.58M  11.6MB/s               \r2017.csv              2%[                    ]  17.29M  13.8MB/s               \r2017.csv              3%[                    ]  22.09M  15.2MB/s               \r2017.csv              4%[                    ]  27.22M  16.1MB/s               \r2017.csv              4%[                    ]  32.12M  16.9MB/s               \r2017.csv              5%[>                   ]  37.69M  17.7MB/s               \r2017.csv              6%[>                   ]  43.91M  18.9MB/s               \r2017.csv              7%[>                   ]  49.66M  19.4MB/s               \r2017.csv              8%[>                   ]  55.90M  20.2MB/s               \r2017.csv              9%[>                   ]  61.99M  20.6MB/s    eta 29s    \r2017.csv             10%[=>                  ]  68.32M  21.3MB/s    eta 29s    \r2017.csv             11%[=>                  ]  74.62M  21.6MB/s    eta 29s    \r2017.csv             12%[=>                  ]  81.38M  22.0MB/s    eta 29s    \r2017.csv             13%[=>                  ]  87.74M  23.7MB/s    eta 29s    \r2017.csv             14%[=>                  ]  94.12M  25.0MB/s    eta 25s    \r2017.csv             14%[=>                  ] 100.07M  26.1MB/s    eta 25s    \r2017.csv             15%[==>                 ] 106.44M  26.6MB/s    eta 25s    \r2017.csv             16%[==>                 ] 112.46M  26.9MB/s    eta 25s    \r2017.csv             17%[==>                 ] 118.40M  27.3MB/s    eta 25s    \r2017.csv             18%[==>                 ] 125.15M  28.1MB/s    eta 22s    \r2017.csv             19%[==>                 ] 131.43M  28.4MB/s    eta 22s    \r2017.csv             20%[===>                ] 137.29M  28.7MB/s    eta 22s    \r2017.csv             21%[===>                ] 144.12M  29.2MB/s    eta 22s    \r2017.csv             22%[===>                ] 150.47M  29.3MB/s    eta 22s    \r2017.csv             23%[===>                ] 156.71M  29.5MB/s    eta 20s    \r2017.csv             24%[===>                ] 162.96M  29.6MB/s    eta 20s    \r2017.csv             25%[====>               ] 170.05M  29.9MB/s    eta 20s    \r2017.csv             26%[====>               ] 176.66M  30.1MB/s    eta 20s    \r2017.csv             27%[====>               ] 183.08M  30.4MB/s    eta 20s    \r2017.csv             28%[====>               ] 189.57M  30.5MB/s    eta 18s    \r2017.csv             29%[====>               ] 196.35M  30.7MB/s    eta 18s    \r2017.csv             30%[=====>              ] 203.27M  31.2MB/s    eta 18s    \r2017.csv             31%[=====>              ] 210.12M  31.5MB/s    eta 18s    \r2017.csv             32%[=====>              ] 216.97M  31.6MB/s    eta 18s    \r2017.csv             33%[=====>              ] 224.05M  32.0MB/s    eta 16s    \r2017.csv             34%[=====>              ] 231.08M  32.2MB/s    eta 16s    \r2017.csv             35%[======>             ] 238.02M  32.4MB/s    eta 16s    \r2017.csv             36%[======>             ] 244.93M  32.8MB/s    eta 16s    \r2017.csv             37%[======>             ] 252.21M  33.0MB/s    eta 16s    \r2017.csv             38%[======>             ] 259.24M  33.4MB/s    eta 15s    \r2017.csv             39%[======>             ] 266.52M  33.7MB/s    eta 15s    \r2017.csv             40%[=======>            ] 273.55M  33.9MB/s    eta 15s    \r2017.csv             41%[=======>            ] 280.83M  34.2MB/s    eta 15s    \r2017.csv             43%[=======>            ] 287.99M  34.4MB/s    eta 15s    \r2017.csv             44%[=======>            ] 295.52M  34.6MB/s    eta 13s    \r2017.csv             45%[========>           ] 302.74M  34.8MB/s    eta 13s    \r2017.csv             46%[========>           ] 309.85M  35.0MB/s    eta 13s    \r2017.csv             47%[========>           ] 317.12M  35.1MB/s    eta 13s    \r2017.csv             48%[========>           ] 324.68M  35.3MB/s    eta 13s    \r2017.csv             49%[========>           ] 331.74M  35.5MB/s    eta 12s    \r2017.csv             50%[=========>          ] 339.69M  35.7MB/s    eta 12s    \r2017.csv             51%[=========>          ] 347.20M  36.0MB/s    eta 12s    \r2017.csv             52%[=========>          ] 354.62M  36.1MB/s    eta 12s    \r2017.csv             54%[=========>          ] 362.26M  36.3MB/s    eta 12s    \r2017.csv             55%[==========>         ] 370.04M  36.6MB/s    eta 10s    \r2017.csv             56%[==========>         ] 378.32M  36.9MB/s    eta 10s    \r2017.csv             57%[==========>         ] 386.49M  37.3MB/s    eta 10s    \r2017.csv             58%[==========>         ] 394.38M  37.6MB/s    eta 10s    \r2017.csv             60%[===========>        ] 402.32M  38.0MB/s    eta 10s    \r2017.csv             61%[===========>        ] 410.33M  38.0MB/s    eta 8s     \r2017.csv             62%[===========>        ] 418.74M  38.5MB/s    eta 8s     \r2017.csv             63%[===========>        ] 425.63M  38.2MB/s    eta 8s     \r2017.csv             64%[===========>        ] 434.62M  38.8MB/s    eta 8s     \r2017.csv             66%[============>       ] 443.93M  39.3MB/s    eta 8s     \r2017.csv             67%[============>       ] 452.44M  39.4MB/s    eta 7s     \r2017.csv             68%[============>       ] 461.99M  40.1MB/s    eta 7s     \r2017.csv             70%[=============>      ] 471.08M  40.9MB/s    eta 7s     \r2017.csv             71%[=============>      ] 479.63M  40.6MB/s    eta 7s     \r2017.csv             73%[=============>      ] 489.12M  41.2MB/s    eta 7s     \r2017.csv             74%[=============>      ] 498.34M  41.7MB/s    eta 5s     \r2017.csv             75%[==============>     ] 506.87M  41.6MB/s    eta 5s     \r2017.csv             77%[==============>     ] 516.34M  41.9MB/s    eta 5s     \r2017.csv             78%[==============>     ] 525.79M  42.4MB/s    eta 5s     \r2017.csv             79%[==============>     ] 533.90M  42.1MB/s    eta 5s     \r2017.csv             81%[===============>    ] 543.28M  42.6MB/s    eta 4s     \r2017.csv             82%[===============>    ] 552.83M  43.1MB/s    eta 4s     \r2017.csv             83%[===============>    ] 560.49M  43.0MB/s    eta 4s     \r2017.csv             85%[================>   ] 569.58M  42.8MB/s    eta 4s     \r2017.csv             86%[================>   ] 577.96M  42.7MB/s    eta 4s     \r2017.csv             87%[================>   ] 586.60M  42.9MB/s    eta 2s     \r2017.csv             88%[================>   ] 595.29M  42.6MB/s    eta 2s     \r2017.csv             90%[=================>  ] 604.25M  42.7MB/s    eta 2s     \r2017.csv             91%[=================>  ] 612.43M  42.6MB/s    eta 2s     \r2017.csv             92%[=================>  ] 621.72M  42.4MB/s    eta 2s     \r2017.csv             94%[=================>  ] 631.00M  42.4MB/s    eta 1s     \r2017.csv             95%[==================> ] 639.82M  42.8MB/s    eta 1s     \r2017.csv             96%[==================> ] 648.25M  42.4MB/s    eta 1s     \r2017.csv             98%[==================> ] 657.29M  42.3MB/s    eta 1s     \r2017.csv             99%[==================> ] 663.99M  42.0MB/s    eta 1s     \r2017.csv            100%[===================>] 669.72M  41.6MB/s    in 19s     \r\n\r\n2023-12-10 04:05:20 (34.4 MB/s) - ‘2017.csv’ saved [702257855/702257855]\r\n\r\n"
     ]
    }
   ],
   "source": [
    "\n",
    "!wget https://downloable.s3.amazonaws.com/2017.csv\n",
    "#!wget https://downloable.s3.amazonaws.com/2018.csv\n",
    "# !ls\n",
    "\n"
   ]
  },
  {
   "cell_type": "code",
   "execution_count": 0,
   "metadata": {
    "application/vnd.databricks.v1+cell": {
     "cellMetadata": {
      "byteLimit": 2048000,
      "rowLimit": 10000
     },
     "inputWidgets": {},
     "nuid": "a3b85cf6-add7-4c07-937c-f67478841c75",
     "showTitle": false,
     "title": ""
    }
   },
   "outputs": [],
   "source": [
    "# initialize sparkSession\n",
    "spark = SparkSession.builder.appName(\"Flight Delays\").getOrCreate()\n",
    "spark.sparkContext.setLogLevel(\"ERROR\")"
   ]
  },
  {
   "cell_type": "markdown",
   "metadata": {
    "application/vnd.databricks.v1+cell": {
     "cellMetadata": {
      "byteLimit": 2048000,
      "rowLimit": 10000
     },
     "inputWidgets": {},
     "nuid": "c510ebf4-e5ff-4180-973c-ed448e990a9b",
     "showTitle": false,
     "title": ""
    }
   },
   "source": [
    "### Load Data "
   ]
  },
  {
   "cell_type": "code",
   "execution_count": 0,
   "metadata": {
    "application/vnd.databricks.v1+cell": {
     "cellMetadata": {
      "byteLimit": 2048000,
      "rowLimit": 10000
     },
     "inputWidgets": {},
     "nuid": "4e304683-f20d-4269-8f34-650eca96245d",
     "showTitle": false,
     "title": ""
    }
   },
   "outputs": [
    {
     "output_type": "stream",
     "name": "stdout",
     "output_type": "stream",
     "text": [
      "root\n |-- FL_DATE: timestamp (nullable = true)\n |-- OP_CARRIER: string (nullable = true)\n |-- OP_CARRIER_FL_NUM: integer (nullable = true)\n |-- ORIGIN: string (nullable = true)\n |-- DEST: string (nullable = true)\n |-- CRS_DEP_TIME: double (nullable = true)\n |-- DEP_TIME: double (nullable = true)\n |-- DEP_DELAY: double (nullable = true)\n |-- TAXI_OUT: double (nullable = true)\n |-- WHEELS_OFF: double (nullable = true)\n |-- WHEELS_ON: double (nullable = true)\n |-- TAXI_IN: double (nullable = true)\n |-- CRS_ARR_TIME: double (nullable = true)\n |-- ARR_TIME: double (nullable = true)\n |-- ARR_DELAY: double (nullable = true)\n |-- CANCELLED: double (nullable = true)\n |-- CANCELLATION_CODE: string (nullable = true)\n |-- DIVERTED: double (nullable = true)\n |-- CRS_ELAPSED_TIME: double (nullable = true)\n |-- ACTUAL_ELAPSED_TIME: double (nullable = true)\n |-- AIR_TIME: double (nullable = true)\n |-- DISTANCE: double (nullable = true)\n |-- CARRIER_DELAY: double (nullable = true)\n |-- WEATHER_DELAY: double (nullable = true)\n |-- NAS_DELAY: double (nullable = true)\n |-- SECURITY_DELAY: double (nullable = true)\n |-- LATE_AIRCRAFT_DELAY: double (nullable = true)\n |-- Unnamed: 27: string (nullable = true)\n\n"
     ]
    }
   ],
   "source": [
    "file_path = \"file:/databricks/driver/2017.csv\"\n",
    "\n",
    "schema = T.StructType([\n",
    "    T.StructField(\"FL_DATE\", T.TimestampType(), nullable=True),\n",
    "    T.StructField(\"OP_CARRIER\", T.StringType(), nullable=True),\n",
    "    T.StructField(\"OP_CARRIER_FL_NUM\", T.IntegerType(), nullable=True),\n",
    "    T.StructField(\"ORIGIN\", T.StringType(), nullable=True),\n",
    "    T.StructField(\"DEST\", T.StringType(), nullable=True),\n",
    "    T.StructField(\"CRS_DEP_TIME\", T.DoubleType(), nullable=True),\n",
    "    T.StructField(\"DEP_TIME\", T.DoubleType(), nullable=True),\n",
    "    T.StructField(\"DEP_DELAY\", T.DoubleType(), nullable=True),\n",
    "    T.StructField(\"TAXI_OUT\", T.DoubleType(), nullable=True),\n",
    "    T.StructField(\"WHEELS_OFF\", T.DoubleType(), nullable=True),\n",
    "    T.StructField(\"WHEELS_ON\", T.DoubleType(), nullable=True),\n",
    "    T.StructField(\"TAXI_IN\", T.DoubleType(), nullable=True),\n",
    "    T.StructField(\"CRS_ARR_TIME\", T.DoubleType(), nullable=True),\n",
    "    T.StructField(\"ARR_TIME\",T.DoubleType(), nullable=True),\n",
    "    T.StructField(\"ARR_DELAY\", T.DoubleType(), nullable=True),\n",
    "    T.StructField(\"CANCELLED\", T.DoubleType(), nullable=True),\n",
    "    T.StructField(\"CANCELLATION_CODE\", T.StringType(), nullable=True),\n",
    "    T.StructField(\"DIVERTED\", T.DoubleType(), nullable=True),\n",
    "    T.StructField(\"CRS_ELAPSED_TIME\", T.DoubleType(), nullable=True),\n",
    "    T.StructField(\"ACTUAL_ELAPSED_TIME\", T.DoubleType(), nullable=True),\n",
    "    T.StructField(\"AIR_TIME\", T.DoubleType(), nullable=True),\n",
    "    T.StructField(\"DISTANCE\", T.DoubleType(), nullable=True),\n",
    "    T.StructField(\"CARRIER_DELAY\", T.DoubleType(), nullable=True),\n",
    "    T.StructField(\"WEATHER_DELAY\", T.DoubleType(), nullable=True),\n",
    "    T.StructField(\"NAS_DELAY\", T.DoubleType(), nullable=True),\n",
    "    T.StructField(\"SECURITY_DELAY\", T.DoubleType(), nullable=True),\n",
    "    T.StructField(\"LATE_AIRCRAFT_DELAY\", T.DoubleType(), nullable=True),\n",
    "    T.StructField(\"Unnamed: 27\", T.StringType(), nullable=True)\n",
    "])\n",
    "\n",
    "flights_df = spark.read.schema(schema).format(\"csv\").option(\"header\", \"true\").load(file_path)\n",
    "#flights_df.select(F.col(\"CANCELLED\")).distinct().show()\n",
    "#flights_df = flights_df.limit(1000)\n",
    "flights_df.printSchema()\n"
   ]
  },
  {
   "cell_type": "code",
   "execution_count": 0,
   "metadata": {
    "application/vnd.databricks.v1+cell": {
     "cellMetadata": {
      "byteLimit": 2048000,
      "rowLimit": 10000
     },
     "inputWidgets": {},
     "nuid": "e807602b-ddd1-4f00-8466-572e2458fb2c",
     "showTitle": false,
     "title": ""
    }
   },
   "outputs": [],
   "source": [
    "display(flights_df)"
   ]
  },
  {
   "cell_type": "markdown",
   "metadata": {
    "application/vnd.databricks.v1+cell": {
     "cellMetadata": {
      "byteLimit": 2048000,
      "rowLimit": 10000
     },
     "inputWidgets": {},
     "nuid": "b6ae2e03-532d-4a0a-9cde-ee5576374c12",
     "showTitle": false,
     "title": ""
    }
   },
   "source": [
    "### Data Explanation\n",
    "<ul>\n",
    " \n",
    "<b><li>FL_DATE : the date of the flight.</li></b>\n",
    "<li>OP CARRIER : the airline identifier.</li>\n",
    "<b><li>OP_CARRIER_FL_NUM : the flight number.</li></b>\n",
    "<b><li>ORIGIN : the starting airport code.</li></b>\n",
    "<b><li>DEST : the destination airport code.</li></b>\n",
    "<li>CRS_DEP_TIME : the planned departure time.</li>\n",
    "<li>DEP_TIME : the actual departure time.</li>\n",
    "<li>DEP_DELAY : the total delay on departure in minutes.</li>\n",
    "<li>TAXI_OUT : the time duration elapsed between departure from the origin airport gate and wheels off.</li>\n",
    "<li>WHEELS_OFF : the time point that the aircraft's wheels leave the ground.</li>\n",
    "<li>WHEELS_ON : the time point that the aircraft's wheels touch on the ground.</li>\n",
    "<li>TAXI_IN : the time duration elapsed between wheels-on and gate arrival at the destination airport.</li>\n",
    "<b><li>CRS ARR TIME : the planned arrival time.</li></b>\n",
    "<li>ARR_TIME : the actual arrival time.</li>\n",
    "<li>ARR_DELAY : the total delay on arrival in minutes.</li></b>\n",
    "<b><i><li>CANCELLED : indicates whether the flight was cancelled (1 = cancelled).</li></i></b>\n",
    "<li>CANCELLATION_CODE : indicates the reason for cancellation of flight (A - Airline/Carrier, B - Weather, C - National Air System, D - Security).</li>\n",
    "<b><li>DIVERTED : indicates whether the aircraft landed on a different airport than the one scheduled (1 = diverted).</li></b>\n",
    "<b><li>CRS_ELAPSED_TIME : is the planned time amount needed for the flight trip.</li></b>\n",
    "<li>ACTUAL ELAPSED TIME : is the actual time it took to complete the flight trip.</li>\n",
    "<li>AIR_TIME : is the time duration between wheels_off and wheels_on time.</li>\n",
    "<li>DISTANCE : is the distance between the two airports.</li>\n",
    "<li>CARRIER_DELAY : is the delay caused by the airline in minutes.</li>\n",
    "<li>WEATHER DELAY : is the delay caused by weather.</li>\n",
    "<li>NAS_DELAY : is the delay caused by the air system.</li>\n",
    "<li>SECURITY_DELAY : is the delay caused by security reasons.</li>\n",
    "<li>LATE AIRCRAFT DELAY : is the delay caused by the aircraft being late.</li>\n",
    " \n",
    "</ul>"
   ]
  },
  {
   "cell_type": "markdown",
   "metadata": {
    "application/vnd.databricks.v1+cell": {
     "cellMetadata": {
      "byteLimit": 2048000,
      "rowLimit": 10000
     },
     "inputWidgets": {},
     "nuid": "5735037c-905a-44c4-b523-1b490ab6b034",
     "showTitle": false,
     "title": ""
    }
   },
   "source": [
    "### Cleaning Data And Preprocessing "
   ]
  },
  {
   "cell_type": "markdown",
   "metadata": {
    "application/vnd.databricks.v1+cell": {
     "cellMetadata": {
      "byteLimit": 2048000,
      "rowLimit": 10000
     },
     "inputWidgets": {},
     "nuid": "436d94ca-22da-4302-a7e6-667c3e50c272",
     "showTitle": false,
     "title": ""
    }
   },
   "source": [
    " * Removed null values to improve the accuracy of the classification model.\n",
    " * Dropped columns that indirectly indicate cancelled flights, as most flights with null values are cancelled anyway.\n",
    " * Took a subset of the data with subsampling to balance the dataset, as the number of cancelled flights is much smaller than the number  \n",
    "   of non-cancelled flights."
   ]
  },
  {
   "cell_type": "code",
   "execution_count": 0,
   "metadata": {
    "application/vnd.databricks.v1+cell": {
     "cellMetadata": {
      "byteLimit": 2048000,
      "rowLimit": 10000
     },
     "inputWidgets": {},
     "nuid": "f340f3b0-039c-4441-a292-f6d47981adea",
     "showTitle": true,
     "title": "Dropping NULL Values"
    }
   },
   "outputs": [
    {
     "output_type": "stream",
     "name": "stdout",
     "output_type": "stream",
     "text": [
      "rows: 5674621\nrows after dropna 5674614\n"
     ]
    }
   ],
   "source": [
    "print(\"rows: {}\".format(flights_df.count()))\n",
    "#Drop NULL Values\n",
    "flights_df = flights_df.dropna(subset = [\n",
    "    'FL_DATE',\n",
    " 'OP_CARRIER',\n",
    " 'OP_CARRIER_FL_NUM',\n",
    " 'ORIGIN',\n",
    " 'DEST',\n",
    " 'CRS_DEP_TIME',\n",
    " 'CRS_ARR_TIME',\n",
    " 'CANCELLED',\n",
    " 'DIVERTED',\n",
    " 'CRS_ELAPSED_TIME',\n",
    " 'DISTANCE'])\n",
    "\n",
    "print(\"rows after dropna\",format(flights_df.count()))\n",
    "\n",
    "visualisation_df = flights_df.toPandas()\n"
   ]
  },
  {
   "cell_type": "code",
   "execution_count": 0,
   "metadata": {
    "application/vnd.databricks.v1+cell": {
     "cellMetadata": {
      "byteLimit": 2048000,
      "rowLimit": 10000
     },
     "inputWidgets": {},
     "nuid": "c4a09450-52cb-4bd5-8fc9-61176bc24dcf",
     "showTitle": true,
     "title": "Remove Column to prevent data leakage"
    }
   },
   "outputs": [],
   "source": [
    "#Remove columns indirectly indicating flight cancellation to prevent data leakage.\n",
    "#These columns are null most of the cancelled flights.\n",
    "\n",
    "flights_df = flights_df.drop(\"Unnamed: 27\", \n",
    "                        \"CARRIER_DELAY\", \n",
    "                        \"WEATHER_DELAY\",\n",
    "                        \"NAS_DELAY\",\n",
    "                        \"SECURITY_DELAY\",\n",
    "                        \"LATE_AIRCRAFT_DELAY\",\n",
    "                        \"CANCELLATION_CODE\",\n",
    "                        \"DEP_TIME\",\n",
    "                        \"DEP_DELAY\",\n",
    "                        \"TAXI_OUT\",\n",
    "                        \"WHEELS_OFF\",\n",
    "                        \"WHEELS_ON\",\n",
    "                        \"TAXI_IN\",\n",
    "                        \"ARR_TIME\",\n",
    "                        \"ARR_DELAY\",\n",
    "                        \"ACTUAL_ELAPSED_TIME\", \n",
    "                        \"AIR_TIME\")"
   ]
  },
  {
   "cell_type": "code",
   "execution_count": 0,
   "metadata": {
    "application/vnd.databricks.v1+cell": {
     "cellMetadata": {
      "byteLimit": 2048000,
      "rowLimit": 10000
     },
     "inputWidgets": {},
     "nuid": "0e1631b6-fb0f-4a53-90da-6ec4d9ec8c9e",
     "showTitle": true,
     "title": "Checking whether any NULLs persists"
    }
   },
   "outputs": [
    {
     "output_type": "stream",
     "name": "stdout",
     "output_type": "stream",
     "text": [
      "No columns have null values.\n"
     ]
    }
   ],
   "source": [
    "null_columns = [col_name for col_name in flights_df.columns if flights_df.filter(F.col(col_name).isNull() |(F.col(col_name) == \"\")  ).count() > 0]\n",
    "\n",
    "# Display columns with null values\n",
    "if null_columns:\n",
    "    print(\"Columns with null values:\", null_columns)\n",
    "else:\n",
    "    print(\"No columns have null values.\")"
   ]
  },
  {
   "cell_type": "code",
   "execution_count": 0,
   "metadata": {
    "application/vnd.databricks.v1+cell": {
     "cellMetadata": {
      "byteLimit": 2048000,
      "rowLimit": 10000
     },
     "inputWidgets": {},
     "nuid": "fa8e0d71-8ab2-4082-ad4a-e1daf3a440c8",
     "showTitle": false,
     "title": ""
    }
   },
   "outputs": [
    {
     "output_type": "stream",
     "name": "stdout",
     "output_type": "stream",
     "text": [
      "+---------+-------+\n|CANCELLED|  count|\n+---------+-------+\n|      0.0|5591928|\n|      1.0|  82686|\n+---------+-------+\n\nNone\n"
     ]
    }
   ],
   "source": [
    "#Checking balance of the data\n",
    "cancelled_count = flights_df.groupBy(F.col(\"CANCELLED\")).count()\n",
    "print(cancelled_count.show())"
   ]
  },
  {
   "cell_type": "markdown",
   "metadata": {
    "application/vnd.databricks.v1+cell": {
     "cellMetadata": {
      "byteLimit": 2048000,
      "rowLimit": 10000
     },
     "inputWidgets": {},
     "nuid": "c7845aa2-4309-4755-8e8b-ace62b54efb5",
     "showTitle": false,
     "title": ""
    }
   },
   "source": [
    "* Most ML models assume uniformly distirbuted data\n",
    "# Imbalance data strategies\n",
    "https://www.kdnuggets.com/2020/01/5-most-useful-techniques-handle-imbalanced-datasets.html\n",
    "* Random Undersampling and Oversampling\n",
    "* Undersampling and Oversampling using imbalanced-learn\n",
    "* **Class weights in the models**\n",
    "  * Adjust the weights inversely proportional to class frequencies in the input data\n",
    "  * https://vitalflux.com/class-imbalance-class-weight-python-sklearn\n",
    "  * n_samples / (n_classes * np.bincount(y))\n",
    "    * n_sample / (n_classes * count_of_class(i)) = w(i)\n",
    "* Change your Evaluation Metric\n",
    "\n",
    "**Weights**\n",
    "\n",
    "* https://techcommunity.microsoft.com/t5/ai-machine-learning-blog/dealing-with-imbalanced-data-in-automl/ba-p/1625043\n",
    "* 3 classes for 9 rows of data\n",
    "  * cats are 9 / (3 * 3) = 1.0\n",
    "  * dogs are 9 / (3 * 5) = 0.6\n",
    "  * horses are 9 / (3 * 1) = 3.0\n",
    "\n",
    "<img src=\"https://techcommunity.microsoft.com/t5/image/serverpage/image-id/215809i0E3E0E2325ADA3D5/image-dimensions/831x447?v=v2\" width=\"900\">\n"
   ]
  },
  {
   "cell_type": "code",
   "execution_count": 0,
   "metadata": {
    "application/vnd.databricks.v1+cell": {
     "cellMetadata": {
      "byteLimit": 2048000,
      "rowLimit": 10000
     },
     "inputWidgets": {},
     "nuid": "44f2ac0a-bde0-47d9-a7fa-9e179df76d19",
     "showTitle": true,
     "title": "Functions to compute class weights "
    }
   },
   "outputs": [],
   "source": [
    "def class_weights(df:flights_df, column='CANCELLED'):\n",
    "  \"\"\"\n",
    "  Compute rebalancing weights for the given `column`.\n",
    "  \"\"\"\n",
    "  class_counts = list(df.groupBy(column).count().toPandas().to_dict(orient='list').values())\n",
    "  num_classes = len(class_counts[0])\n",
    "  total_samples = sum(class_counts[1])\n",
    "  pairs = list(zip(class_counts[0], class_counts[1]))\n",
    "  return {k:total_samples/(num_classes * v) for (k, v) in pairs}\n",
    "\n",
    "def weight_column(classes: pd.Series, class_weights) -> pd.Series:\n",
    "  \"\"\"\n",
    "  UDF to compute class weights.\n",
    "  Parameter `class_weights` is the pre-computed class_weights.\n",
    "  Example call: sdf.withColumn('weight', weight_column(sdf['Class'], class_weights(sdf, column='Class')))\n",
    "  \"\"\"\n",
    "\n",
    "  @F.pandas_udf(T.DoubleType())\n",
    "  def weight_column_udf(classes: pd.Series) -> pd.Series:\n",
    "    \"\"\"\n",
    "    UDF to compute rebalancing weights for the given `classes` (as a column).\n",
    "    Depends on the within lexically scoped variable, class_weights, which contains a dictionary of weights.\n",
    "    Relies on pre-computed class_weights (because cannot depend on pandas_udf to run over entire column in 1 batch)\n",
    "    \"\"\"\n",
    "    result = []\n",
    "    for _, value in classes.items():\n",
    "      result += [class_weights[value]]\n",
    "    return pd.Series(result)\n",
    "  \n",
    "  return weight_column_udf(classes)"
   ]
  },
  {
   "cell_type": "code",
   "execution_count": 0,
   "metadata": {
    "application/vnd.databricks.v1+cell": {
     "cellMetadata": {
      "byteLimit": 2048000,
      "rowLimit": 10000
     },
     "inputWidgets": {},
     "nuid": "d26948cd-fb6a-414f-bd9d-206687717ecf",
     "showTitle": false,
     "title": ""
    }
   },
   "outputs": [
    {
     "output_type": "stream",
     "name": "stdout",
     "output_type": "stream",
     "text": [
      "The Class weights are {0.0: 0.507393335536509, 1.0: 34.31423699296133}\n"
     ]
    }
   ],
   "source": [
    "print(f\"The Class weights are {class_weights(flights_df)}\")"
   ]
  },
  {
   "cell_type": "code",
   "execution_count": 0,
   "metadata": {
    "application/vnd.databricks.v1+cell": {
     "cellMetadata": {
      "byteLimit": 2048000,
      "rowLimit": 10000
     },
     "inputWidgets": {},
     "nuid": "592abea3-e173-41b9-b6b8-d08b19dc9ce8",
     "showTitle": true,
     "title": "Update dataframe with weight"
    }
   },
   "outputs": [
    {
     "output_type": "display_data",
     "data": {
      "text/html": [
       "<style scoped>\n",
       "  .table-result-container {\n",
       "    max-height: 300px;\n",
       "    overflow: auto;\n",
       "  }\n",
       "  table, th, td {\n",
       "    border: 1px solid black;\n",
       "    border-collapse: collapse;\n",
       "  }\n",
       "  th, td {\n",
       "    padding: 5px;\n",
       "  }\n",
       "  th {\n",
       "    text-align: left;\n",
       "  }\n",
       "</style><div class='table-result-container'><table class='table-result'><thead style='background-color: white'><tr><th>CANCELLED</th><th>weight</th><th>count</th></tr></thead><tbody><tr><td>0.0</td><td>0.507393335536509</td><td>5591928</td></tr><tr><td>1.0</td><td>34.31423699296133</td><td>82686</td></tr></tbody></table></div>"
      ]
     },
     "metadata": {
      "application/vnd.databricks.v1+output": {
       "addedWidgets": {},
       "aggData": [],
       "aggError": "",
       "aggOverflow": false,
       "aggSchema": [],
       "aggSeriesLimitReached": false,
       "aggType": "",
       "arguments": {},
       "columnCustomDisplayInfos": {},
       "data": [
        [
         0.0,
         0.507393335536509,
         5591928
        ],
        [
         1.0,
         34.31423699296133,
         82686
        ]
       ],
       "datasetInfos": [],
       "dbfsResultPath": null,
       "isJsonSchema": true,
       "metadata": {},
       "overflow": false,
       "plotOptions": {
        "customPlotOptions": {},
        "displayType": "table",
        "pivotAggregation": null,
        "pivotColumns": null,
        "xColumns": null,
        "yColumns": null
       },
       "removedWidgets": [],
       "schema": [
        {
         "metadata": "{}",
         "name": "CANCELLED",
         "type": "\"double\""
        },
        {
         "metadata": "{}",
         "name": "weight",
         "type": "\"double\""
        },
        {
         "metadata": "{}",
         "name": "count",
         "type": "\"long\""
        }
       ],
       "type": "table"
      }
     },
     "output_type": "display_data"
    }
   ],
   "source": [
    "df_weighted = flights_df.withColumn('weight', weight_column(flights_df['CANCELLED'], class_weights(flights_df)))\n",
    "display(df_weighted.groupBy('CANCELLED', 'weight').agg(F.count('CANCELLED').alias('count')))"
   ]
  },
  {
   "cell_type": "markdown",
   "metadata": {
    "application/vnd.databricks.v1+cell": {
     "cellMetadata": {
      "byteLimit": 2048000,
      "rowLimit": 10000
     },
     "inputWidgets": {},
     "nuid": "d5af89f4-bd41-4c76-ab90-dd1c96cc1c92",
     "showTitle": false,
     "title": ""
    }
   },
   "source": [
    "## Exploratory Data Analysis (EDA)\n",
    "* Using Bar Charts to Indicate the cancellation of Flights by Months and Airlines"
   ]
  },
  {
   "cell_type": "markdown",
   "metadata": {
    "application/vnd.databricks.v1+cell": {
     "cellMetadata": {
      "byteLimit": 2048000,
      "rowLimit": 10000
     },
     "inputWidgets": {},
     "nuid": "e93e0e41-00f0-4a09-8285-242f1a850166",
     "showTitle": false,
     "title": ""
    }
   },
   "source": [
    "### 1. Cancelled By Airlines"
   ]
  },
  {
   "cell_type": "code",
   "execution_count": 0,
   "metadata": {
    "application/vnd.databricks.v1+cell": {
     "cellMetadata": {
      "byteLimit": 2048000,
      "rowLimit": 10000
     },
     "inputWidgets": {},
     "nuid": "64e9e3f4-685b-4081-a232-2cf22a6fea09",
     "showTitle": false,
     "title": ""
    }
   },
   "outputs": [],
   "source": [
    "visualisation_df['OP_CARRIER'].replace({\n",
    "        'UA':'United Airlines',\n",
    "        'AS':'Alaska Airlines',\n",
    "        '9E':'Endeavor Air',\n",
    "        'B6':'JetBlue Airways',\n",
    "        'EV':'ExpressJet',\n",
    "        'F9':'Frontier Airlines',\n",
    "        'G4':'Allegiant Air',\n",
    "        'HA':'Hawaiian Airlines',\n",
    "        'MQ':'Envoy Air',\n",
    "        'NK':'Spirit Airlines',\n",
    "        'OH':'PSA Airlines',\n",
    "        \n",
    "        'OO':'SkyWest Airlines',\n",
    "        'VX':'Virgin America',\n",
    "        'WN':'Southwest Airlines',\n",
    "        'YV':'Mesa Airline',\n",
    "        'YX':'Republic Airways',\n",
    "        'AA':'American Airlines',\n",
    "        'DL':'Delta Airlines'\n",
    "}, inplace=True)\n",
    "\n",
    "# Delays by airlines\n",
    "plt.figure(figsize=(20, 6))\n",
    "visualisation_df.groupby('OP_CARRIER').CANCELLED.sum().sort_values(ascending=False).plot.bar()\n",
    "plt.title('Cancelled by AIRLINES', fontsize=16)\n",
    "plt.xlabel('Airline', fontsize=14)\n",
    "plt.ylabel('Hours', fontsize=14)\n",
    "plt.show()"
   ]
  },
  {
   "cell_type": "markdown",
   "metadata": {
    "application/vnd.databricks.v1+cell": {
     "cellMetadata": {
      "byteLimit": 2048000,
      "rowLimit": 10000
     },
     "inputWidgets": {},
     "nuid": "ce50c0bb-86f1-4441-80bb-f553afb33845",
     "showTitle": false,
     "title": ""
    }
   },
   "source": [
    "* The graph shows the number of flights cancelled by each airline in the past year.\n",
    "* Southwest Airlines has cancelled the most flights, with over 17,500 cancellations. American Airlines is close behind, with over \n",
    "  15,000 cancellations. SkyWest Airlines, Expressjet Airlines, Delta Air Lines, and JetBlue Airways have all cancelled over 10,000 flights.\n",
    "* United Airlines, Spirit Airlines, Alaska Airlines, Virgin America, Frontier Airlines, and Hawaiian Airlines have all cancelled \n",
    "  fewer than 10,000 flights."
   ]
  },
  {
   "cell_type": "markdown",
   "metadata": {
    "application/vnd.databricks.v1+cell": {
     "cellMetadata": {
      "byteLimit": 2048000,
      "rowLimit": 10000
     },
     "inputWidgets": {},
     "nuid": "d3659c6e-e4fc-42b3-9f19-2e3c7d43ca24",
     "showTitle": false,
     "title": ""
    }
   },
   "source": [
    "### 2. Cancelled By Months"
   ]
  },
  {
   "cell_type": "code",
   "execution_count": 0,
   "metadata": {
    "application/vnd.databricks.v1+cell": {
     "cellMetadata": {
      "byteLimit": 2048000,
      "rowLimit": 10000
     },
     "inputWidgets": {},
     "nuid": "339e8db7-d9b2-41c3-807e-a71f50d1fd77",
     "showTitle": false,
     "title": ""
    }
   },
   "outputs": [],
   "source": [
    "# Arrival and departure delays by month of the year\n",
    "plt.figure(figsize=(25, 12)).subplots_adjust(hspace = 0.5)\n",
    "\n",
    "plt.subplot(2, 2 ,1)\n",
    "visualisation_df['FL_DATE_month'] = pd.to_datetime(visualisation_df['FL_DATE']).dt.month\n",
    "visualisation_df.groupby('FL_DATE_month').CANCELLED.sum().plot.bar().set_title('ARRIVAL delays by month')\n",
    "plt.title('Cancelled by month', fontsize=16)\n",
    "plt.ylabel('Hours', fontsize=14)\n",
    "plt.xlabel('Month of the year', fontsize=14)\n",
    "\n",
    "plt.show()"
   ]
  },
  {
   "cell_type": "markdown",
   "metadata": {
    "application/vnd.databricks.v1+cell": {
     "cellMetadata": {
      "byteLimit": 2048000,
      "rowLimit": 10000
     },
     "inputWidgets": {},
     "nuid": "cd1a5f04-00c7-49e6-963f-828e616f0c16",
     "showTitle": false,
     "title": ""
    }
   },
   "source": [
    "* The graph shows that the number of cancelled flights is highest in the summer months, and lowest in the winter months. The peak \n",
    "  number of cancellations is in July, with over 14,000 flights cancelled. The lowest number of cancellations is in January, with under 4,000 flights cancelled.\n",
    "\n",
    "* There are a few possible reasons for this seasonal trend. One possibility is that there are more flights scheduled during the \n",
    "  summer months, so there are more opportunities for flights to be cancelled. Another possibility is that weather conditions are more likely to cause flight cancellations in the summer months. For example, thunderstorms and hurricanes can disrupt air travel."
   ]
  },
  {
   "cell_type": "code",
   "execution_count": 0,
   "metadata": {
    "application/vnd.databricks.v1+cell": {
     "cellMetadata": {
      "byteLimit": 2048000,
      "rowLimit": 10000
     },
     "inputWidgets": {},
     "nuid": "06a67da9-1558-4e5b-a803-14bdc4901c74",
     "showTitle": false,
     "title": ""
    }
   },
   "outputs": [],
   "source": [
    "#Type cast otherwise gives error - Data type date of column FL_DATE is not supported\n",
    "df_weighted = df_weighted.withColumn(\"FL_DATE\", F.unix_timestamp(F.col(\"FL_DATE\")))\n",
    "\n"
   ]
  },
  {
   "cell_type": "code",
   "execution_count": 0,
   "metadata": {
    "application/vnd.databricks.v1+cell": {
     "cellMetadata": {
      "byteLimit": 2048000,
      "rowLimit": 10000
     },
     "inputWidgets": {},
     "nuid": "46e795d7-5171-4e8f-831b-2cb63b775db3",
     "showTitle": false,
     "title": ""
    }
   },
   "outputs": [
    {
     "output_type": "stream",
     "name": "stdout",
     "output_type": "stream",
     "text": [
      "+----------+----------+-----------------+------+----+------------+------------+---------+--------+----------------+--------+-----------------+\n|   FL_DATE|OP_CARRIER|OP_CARRIER_FL_NUM|ORIGIN|DEST|CRS_DEP_TIME|CRS_ARR_TIME|CANCELLED|DIVERTED|CRS_ELAPSED_TIME|DISTANCE|           weight|\n+----------+----------+-----------------+------+----+------------+------------+---------+--------+----------------+--------+-----------------+\n|1483228800|        AA|                1|   JFK| LAX|       800.0|      1142.0|      0.0|     0.0|           402.0|  2475.0|0.507393335536509|\n|1483228800|        AA|                2|   LAX| JFK|       900.0|      1727.0|      0.0|     0.0|           327.0|  2475.0|0.507393335536509|\n|1483228800|        AA|                4|   LAX| JFK|      1130.0|      1958.0|      0.0|     0.0|           328.0|  2475.0|0.507393335536509|\n|1483228800|        AA|                5|   DFW| HNL|      1135.0|      1612.0|      0.0|     0.0|           517.0|  3784.0|0.507393335536509|\n|1483228800|        AA|                6|   OGG| DFW|      1855.0|       600.0|      0.0|     0.0|           425.0|  3711.0|0.507393335536509|\n+----------+----------+-----------------+------+----+------------+------------+---------+--------+----------------+--------+-----------------+\nonly showing top 5 rows\n\n"
     ]
    }
   ],
   "source": [
    "df_weighted.show(5)"
   ]
  },
  {
   "cell_type": "markdown",
   "metadata": {
    "application/vnd.databricks.v1+cell": {
     "cellMetadata": {
      "byteLimit": 2048000,
      "rowLimit": 10000
     },
     "inputWidgets": {},
     "nuid": "6f2bc945-3c30-4101-a902-d82924a22f8d",
     "showTitle": false,
     "title": ""
    }
   },
   "source": [
    "### Split the dataset for training and testing"
   ]
  },
  {
   "cell_type": "code",
   "execution_count": 0,
   "metadata": {
    "application/vnd.databricks.v1+cell": {
     "cellMetadata": {
      "byteLimit": 2048000,
      "rowLimit": 10000
     },
     "inputWidgets": {},
     "nuid": "8d4d82e8-b5f6-4f44-b66d-51af9f1f9560",
     "showTitle": false,
     "title": ""
    }
   },
   "outputs": [],
   "source": [
    "splitted_data = df_weighted.randomSplit([0.7, 0.3], 25)   # proportions [], seed for random\n",
    "train_data = splitted_data[0]\n",
    "test_data = splitted_data[1]\n",
    "\n",
    "print(\"Number of training records: \" + str(train_data.count()))\n",
    "print(\"Number of testing records : \" + str(test_data.count()))\n",
    "\n",
    "display(train_data)"
   ]
  },
  {
   "cell_type": "markdown",
   "metadata": {
    "application/vnd.databricks.v1+cell": {
     "cellMetadata": {
      "byteLimit": 2048000,
      "rowLimit": 10000
     },
     "inputWidgets": {},
     "nuid": "279c142a-21c7-411a-b2b7-fc885b0a8081",
     "showTitle": false,
     "title": ""
    }
   },
   "source": [
    "### Fitting Pipeline\n",
    "* Build a **Pipeline** using **Rformula** and Classification Models such as **Logistic Regression**, **GB Classifier** and **Random Forest**.\n",
    "* Predictor column is **CANCELLED**\n",
    "* Feature columns are placed into one vectorized column called **features**"
   ]
  },
  {
   "cell_type": "code",
   "execution_count": 0,
   "metadata": {
    "application/vnd.databricks.v1+cell": {
     "cellMetadata": {
      "byteLimit": 2048000,
      "rowLimit": 10000
     },
     "inputWidgets": {},
     "nuid": "63f484dc-28cf-4792-bf40-240b9572ad02",
     "showTitle": false,
     "title": ""
    }
   },
   "outputs": [
    {
     "output_type": "stream",
     "name": "stdout",
     "output_type": "stream",
     "text": [
      "Formula : CANCELLED ~ FL_DATE + OP_CARRIER_FL_NUM + CRS_ARR_TIME + DIVERTED + CRS_ELAPSED_TIME + DISTANCE\n"
     ]
    }
   ],
   "source": [
    "from pyspark.ml.feature import RFormula, StandardScaler\n",
    "from pyspark.ml import Pipeline, Model\n",
    "from pyspark.ml.classification import LogisticRegression, RandomForestClassifier, GBTClassifier, NaiveBayes\n",
    "from pyspark.ml.tuning import CrossValidator, ParamGridBuilder\n",
    "from pyspark.ml.evaluation import BinaryClassificationEvaluator\n",
    "\n",
    "\n",
    "# InDependent Variables\n",
    "x_cols = list(['FL_DATE','OP_CARRIER_FL_NUM','CRS_ARR_TIME','DIVERTED','CRS_ELAPSED_TIME','DISTANCE'])\n",
    "\n",
    "# RFormula properly represents categorical variables (StringIndexer | OneHotEncoder)\n",
    "formula = \"{} ~ {}\".format(\"CANCELLED\", \" + \".join(x_cols))\n",
    "print(\"Formula : {}\".format(formula))\n",
    "\n",
    "pipeline = Pipeline(stages=[]) \n",
    "\n",
    "# Steps in sequence; output of one is input to next:\n",
    "basePipeline = [RFormula(formula = formula, featuresCol='features')]\n",
    "\n",
    "lr = LogisticRegression(labelCol = 'CANCELLED', featuresCol = 'features',weightCol=\"weight\")\n",
    "pl_lr = basePipeline + [lr]\n",
    "pg_lr = ParamGridBuilder()\\\n",
    "          .baseOn({pipeline.stages: pl_lr})\\\n",
    "          .addGrid(lr.regParam,[0.01, .04])\\\n",
    "           .addGrid(lr.elasticNetParam,[0.1, 0.4])\\\n",
    "          .build()\n",
    "\n",
    "\n",
    "rf = RandomForestClassifier(numTrees=50,weightCol=\"weight\")\n",
    "pl_rf = basePipeline + [rf]\n",
    "pg_rf = ParamGridBuilder()\\\n",
    "      .baseOn({pipeline.stages: pl_rf})\\\n",
    "      .build()\n",
    "\n",
    "\n",
    "gb = GBTClassifier(labelCol=\"CANCELLED\", featuresCol=\"features\",  maxBins=32,  maxDepth=10, maxIter=15,weightCol=\"weight\")\n",
    "pl_gb = basePipeline + [gb]\n",
    "pg_gb = ParamGridBuilder()\\\n",
    "      .baseOn({pipeline.stages: pl_gb})\\\n",
    "      .build()\n",
    "\n",
    "# Three models:\n",
    "paramGrid = pg_lr + pg_rf + pg_gb\n"
   ]
  },
  {
   "cell_type": "code",
   "execution_count": 0,
   "metadata": {
    "application/vnd.databricks.v1+cell": {
     "cellMetadata": {
      "byteLimit": 2048000,
      "rowLimit": 10000
     },
     "inputWidgets": {},
     "nuid": "9bff666f-0401-4d49-82c7-219b875de827",
     "showTitle": true,
     "title": "Run the parameterized pipelines"
    }
   },
   "outputs": [],
   "source": [
    "cv = CrossValidator()\\\n",
    "      .setEstimator(pipeline)\\\n",
    "      .setEvaluator(BinaryClassificationEvaluator())\\\n",
    "      .setEstimatorParamMaps(paramGrid)\\\n",
    "      .setNumFolds(2)\n",
    "\n",
    "# Training on around 20% of data as all models along with cross-validaton takes around and full wasn't working as the cluster would disconnect frequently\n",
    "cvModel = cv.fit(train_data.limit(1000000))"
   ]
  },
  {
   "cell_type": "markdown",
   "metadata": {
    "application/vnd.databricks.v1+cell": {
     "cellMetadata": {
      "byteLimit": 2048000,
      "rowLimit": 10000
     },
     "inputWidgets": {},
     "nuid": "827161a8-25ec-40dc-9bb3-e28b1184d31d",
     "showTitle": false,
     "title": ""
    }
   },
   "source": [
    "###Model Evaluation"
   ]
  },
  {
   "cell_type": "code",
   "execution_count": 0,
   "metadata": {
    "application/vnd.databricks.v1+cell": {
     "cellMetadata": {
      "byteLimit": 2048000,
      "rowLimit": 10000
     },
     "inputWidgets": {},
     "nuid": "7abde251-a057-478b-a89c-00adaed9582b",
     "showTitle": true,
     "title": " Best Model"
    }
   },
   "outputs": [
    {
     "output_type": "stream",
     "name": "stdout",
     "output_type": "stream",
     "text": [
      "Out[20]: {Param(parent='Pipeline_8f79705e672c', name='stages', doc='a list of pipeline stages'): [RFormula_955f373db6cd,\n  GBTClassifier_83ed78a06073]}"
     ]
    }
   ],
   "source": [
    "import numpy as np\n",
    "# BinaryClassificationEvaluator defaults to ROC AUC, so higher is better\n",
    "# http://gim.unmc.edu/dxtests/roc3.htm\n",
    "cvModel.getEstimatorParamMaps()[ np.argmax(cvModel.avgMetrics) ]"
   ]
  },
  {
   "cell_type": "code",
   "execution_count": 0,
   "metadata": {
    "application/vnd.databricks.v1+cell": {
     "cellMetadata": {
      "byteLimit": 2048000,
      "rowLimit": 10000
     },
     "inputWidgets": {},
     "nuid": "cacd6193-5892-4d90-ac60-69e497149488",
     "showTitle": true,
     "title": "Worst Model"
    }
   },
   "outputs": [
    {
     "output_type": "stream",
     "name": "stdout",
     "output_type": "stream",
     "text": [
      "Out[21]: {Param(parent='Pipeline_8f79705e672c', name='stages', doc='a list of pipeline stages'): [RFormula_955f373db6cd,\n  LogisticRegression_a6f894ee3fb3],\n Param(parent='LogisticRegression_a6f894ee3fb3', name='regParam', doc='regularization parameter (>= 0).'): 0.04,\n Param(parent='LogisticRegression_a6f894ee3fb3', name='elasticNetParam', doc='the ElasticNet mixing parameter, in range [0, 1]. For alpha = 0, the penalty is an L2 penalty. For alpha = 1, it is an L1 penalty.'): 0.4}"
     ]
    }
   ],
   "source": [
    "cvModel.getEstimatorParamMaps()[ np.argmin(cvModel.avgMetrics) ]"
   ]
  },
  {
   "cell_type": "code",
   "execution_count": 0,
   "metadata": {
    "application/vnd.databricks.v1+cell": {
     "cellMetadata": {
      "byteLimit": 2048000,
      "rowLimit": 10000
     },
     "inputWidgets": {},
     "nuid": "4a894817-2258-4fbf-877d-e9ef04e793af",
     "showTitle": true,
     "title": "Model measures"
    }
   },
   "outputs": [],
   "source": [
    "import re\n",
    "def paramGrid_model_name(model):\n",
    "  params = [v for v in model.values() if type(v) is not list]\n",
    "  name = [v[-1] for v in model.values() if type(v) is list][0]\n",
    "  name = re.match(r'([a-zA-Z]*)', str(name)).groups()[0]\n",
    "  return \"{}{}\".format(name,params)\n",
    "\n",
    "# Resulting metric and model description\n",
    "# get the measure from the CrossValidator, cvModel.avgMetrics\n",
    "# get the model name & params from the paramGrid\n",
    "# put them together here:\n",
    "kmeans_measures = zip(cvModel.avgMetrics, [paramGrid_model_name(m) for m in paramGrid])\n",
    "metrics,model_names = zip(*kmeans_measures)"
   ]
  },
  {
   "cell_type": "code",
   "execution_count": 0,
   "metadata": {
    "application/vnd.databricks.v1+cell": {
     "cellMetadata": {
      "byteLimit": 2048000,
      "rowLimit": 10000
     },
     "inputWidgets": {},
     "nuid": "d8baa866-84cd-4bcf-93ea-6a31bb73ce54",
     "showTitle": true,
     "title": "Plot Model Measures"
    }
   },
   "outputs": [
    {
     "output_type": "stream",
     "name": "stdout",
     "output_type": "stream",
     "text": [
      "<Figure size 432x288 with 0 Axes>"
     ]
    },
    {
     "output_type": "display_data",
     "data": {
      "image/png": "[encoded data removed]"
     },
     "metadata": {
      "application/vnd.databricks.v1+output": {
       "addedWidgets": {},
       "arguments": {},
       "data": "data:image/png;base64,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\n",
       "datasetInfos": [],
       "metadata": {},
       "removedWidgets": [],
       "type": "image"
      }
     },
     "output_type": "display_data"
    }
   ],
   "source": [
    "import seaborn as sns\n",
    "import matplotlib.pyplot as plt\n",
    "\n",
    "plt.clf() # clear figure\n",
    "fig = plt.figure( figsize=(8, 8))\n",
    "plt.style.use('fivethirtyeight')\n",
    "axis = fig.add_axes([0.1, 0.3, 0.8, 0.6])\n",
    "# plot the metrics as Y\n",
    "#plt.plot(range(len(model_names)),metrics)\n",
    "plt.bar(range(len(model_names)),metrics)\n",
    "# plot the model name & param as X labels\n",
    "plt.xticks(range(len(model_names)), model_names, rotation=70, fontsize=10)\n",
    "plt.yticks(fontsize=6)\n",
    "#plt.xlabel('model',fontsize=8)\n",
    "plt.ylabel('ROC AUC (better is greater)',fontsize=10)\n",
    "plt.title('Model evaluations')\n",
    "display(plt.show())"
   ]
  },
  {
   "cell_type": "code",
   "execution_count": 0,
   "metadata": {
    "application/vnd.databricks.v1+cell": {
     "cellMetadata": {
      "byteLimit": 2048000,
      "rowLimit": 10000
     },
     "inputWidgets": {},
     "nuid": "09210db0-e7c2-44d2-ac89-3ef8e32f4493",
     "showTitle": false,
     "title": ""
    }
   },
   "outputs": [],
   "source": [
    "best_model = cvModel.bestModel\n",
    "lm = best_model.stages[-1]"
   ]
  },
  {
   "cell_type": "markdown",
   "metadata": {
    "application/vnd.databricks.v1+cell": {
     "cellMetadata": {
      "byteLimit": 2048000,
      "rowLimit": 10000
     },
     "inputWidgets": {},
     "nuid": "2042bb3a-59e0-4225-963f-908de5b44c52",
     "showTitle": false,
     "title": ""
    }
   },
   "source": [
    "###  Confusion Matrix"
   ]
  },
  {
   "cell_type": "code",
   "execution_count": 0,
   "metadata": {
    "application/vnd.databricks.v1+cell": {
     "cellMetadata": {
      "byteLimit": 2048000,
      "rowLimit": 10000
     },
     "inputWidgets": {},
     "nuid": "c60a7364-f723-4753-9847-7633d79dd7eb",
     "showTitle": false,
     "title": ""
    }
   },
   "outputs": [
    {
     "output_type": "stream",
     "name": "stdout",
     "output_type": "stream",
     "text": [
      "DenseMatrix([[2390083.,   24307.],\n             [1524039.,   33710.]])\n"
     ]
    },
    {
     "output_type": "display_data",
     "data": {
      "image/png": "[encoded data removed]"
     },
     "metadata": {
      "application/vnd.databricks.v1+output": {
       "addedWidgets": {},
       "arguments": {},
       "data": "data:image/png;base64,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\n",
       "datasetInfos": [],
       "metadata": {},
       "removedWidgets": [],
       "type": "image"
      }
     },
     "output_type": "display_data"
    }
   ],
   "source": [
    "from pyspark.mllib.evaluation import MulticlassMetrics\n",
    "import pandas as pd\n",
    "import numpy as np\n",
    "import matplotlib.pyplot as plt\n",
    "import seaborn as sns\n",
    "sns.set_context('notebook')\n",
    "sns.set_style('white')\n",
    "sns.set_palette(\"bright\")\n",
    "\n",
    "predictions = best_model.transform(train_data)\n",
    "#predictions.filter(F.col('label').isNull() | F.col('prediction').isNull()).show()\n",
    "\n",
    "\n",
    "# Confusion matrix from labels and predictions\n",
    "metrics = MulticlassMetrics(predictions.select('label', 'prediction').rdd.map(tuple))\n",
    "print(metrics.confusionMatrix())\n",
    "confusion_matrix = metrics.confusionMatrix().toArray()\n",
    "\n",
    "# Pandas DataFrame from Spark confusion matrix\n",
    "cnf_matrix = pd.DataFrame(confusion_matrix)\n",
    "\n",
    "plt.figure(figsize = (10,7))\n",
    "p = sns.heatmap(cnf_matrix/np.sum(cnf_matrix), annot=True, fmt=\".2%\", linewidth=0.5, annot_kws={'fontsize':10}, cmap='RdBu')\n",
    "# If you want numbers, instead of percent\n",
    "# p = sns.heatmap(cnf_matrix, annot=True, fmt=\",.1f\", linewidth=0.5, annot_kws={'fontsize':10}, cmap='RdBu');\n",
    "\n",
    "p.set(xlabel='Predicted', ylabel='Actual', title='Confusion Matrix');"
   ]
  },
  {
   "cell_type": "markdown",
   "metadata": {
    "application/vnd.databricks.v1+cell": {
     "cellMetadata": {
      "byteLimit": 2048000,
      "rowLimit": 10000
     },
     "inputWidgets": {},
     "nuid": "07abb8f6-efe8-48dd-8fb7-0ecc7b2a438c",
     "showTitle": false,
     "title": ""
    }
   },
   "source": [
    "### Model Behaviour?\n",
    "\n",
    "The model seems to be struggling to make accurate prediction on cancellation of flights. Despite running the model with balancing weights and cross validation the performance seems to inadequate. \n",
    "Following can be the reasons for such behaviour - \n",
    "\n",
    "#### Feature Representation:\n",
    "* Insufficient or irrelevant features might affect the model's ability to capture patterns related to flight cancellations \n",
    "  accurately. Ensure that the features used in training the model are relevant and provide enough information to distinguish between the classes.\n",
    "\n",
    "\n",
    "#### Complexity of the Cancellation Pattern:\n",
    "* The behavior of flight cancellations is complex and multifaceted, involving a combination of factors. This dataset does not \n",
    "  encompass a sufficiently diverse range of scenarios and conditions leading to cancellations, \n",
    "  so the model is struggling to discern and learn the intricate patterns characterizing this class."
   ]
  },
  {
   "cell_type": "markdown",
   "metadata": {
    "application/vnd.databricks.v1+cell": {
     "cellMetadata": {
      "byteLimit": 2048000,
      "rowLimit": 10000
     },
     "inputWidgets": {},
     "nuid": "b4dda633-d826-4374-9c9d-f5afcb4d3657",
     "showTitle": false,
     "title": ""
    }
   },
   "source": [
    "### Business Use Cases\n",
    "##### Operational Efficiency:###\n",
    " * Airlines can optimize crew schedules and resources with advance cancellation predictions, reducing costs.\n",
    " * Ground services benefit from better planning, minimizing downtime during potential cancellations.\n",
    "\n",
    "##### Customer Service:##### \n",
    " * Travel agencies can alert customers early about potential cancellations, enabling proactive changes to travel plans.\n",
    " * Airlines providing timely information to affected passengers enhance overall customer satisfaction.\n",
    "\n",
    "##### Revenue Management:#####\n",
    " * Airlines adjust pricing based on predicted cancellations, optimizing revenue and seat allocation.\n",
    " * Dynamic pricing by travel agencies aligns with cancellation probabilities for accurate cost projections.\n",
    "\n",
    "\n",
    "##### Supply Chain Management:#####\n",
    " * Cargo-dependent companies benefit from predicting cancellations, allowing better supply chain logistics planning.\n",
    " * Manufacturers adjust production schedules based on likely delays in receiving goods due to cancellations."
   ]
  }
 ],
 "metadata": {
  "application/vnd.databricks.v1+notebook": {
   "dashboards": [],
   "language": "python",
   "notebookMetadata": {
    "pythonIndentUnit": 4
   },
   "notebookName": "BDI_M2_Group7 (1) (1)",
   "widgets": {}
  }
 },
 "nbformat": 4,
 "nbformat_minor": 0
}
